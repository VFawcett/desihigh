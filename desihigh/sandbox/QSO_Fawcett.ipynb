{
 "cells": [
  {
   "cell_type": "markdown",
   "id": "7c9ed912",
   "metadata": {},
   "source": [
    "Notebook for playing with QSO spectra"
   ]
  },
  {
   "cell_type": "markdown",
   "id": "5578aba9",
   "metadata": {},
   "source": [
    "git test"
   ]
  },
  {
   "cell_type": "code",
   "execution_count": null,
   "id": "740d57cb",
   "metadata": {},
   "outputs": [],
   "source": []
  }
 ],
 "metadata": {
  "kernelspec": {
   "display_name": "Python 3",
   "language": "python",
   "name": "python3"
  },
  "language_info": {
   "codemirror_mode": {
    "name": "ipython",
    "version": 3
   },
   "file_extension": ".py",
   "mimetype": "text/x-python",
   "name": "python",
   "nbconvert_exporter": "python",
   "pygments_lexer": "ipython3",
   "version": "3.9.6"
  }
 },
 "nbformat": 4,
 "nbformat_minor": 5
}
